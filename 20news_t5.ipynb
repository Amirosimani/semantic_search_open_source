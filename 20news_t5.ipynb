{
 "cells": [
  {
   "cell_type": "code",
   "execution_count": null,
   "id": "3d4e45fd",
   "metadata": {},
   "outputs": [],
   "source": [
    "import torch\n",
    "from datasets import load_dataset\n",
    "from transformers import T5Model, T5Tokenizer\n",
    "\n",
    "from elasticsearch import Elasticsearch"
   ]
  },
  {
   "cell_type": "markdown",
   "id": "1684d50a",
   "metadata": {},
   "source": [
    "# Create an elasticsearch index\n",
    "\n",
    "You have to have a running local cluster before continuing this part."
   ]
  },
  {
   "cell_type": "code",
   "execution_count": null,
   "id": "2c0ad385",
   "metadata": {},
   "outputs": [],
   "source": [
    "ELASTIC_PASSWORD = \"E_zn77Jg3pct5db8irFU\"\n",
    "ES_HOST = \"https://localhost:9200/\"\n",
    "index_name = \"semantic-search\""
   ]
  },
  {
   "cell_type": "code",
   "execution_count": null,
   "id": "268b02e0",
   "metadata": {},
   "outputs": [],
   "source": [
    "# Create the client instance\n",
    "client = Elasticsearch(\n",
    "    hosts=ES_HOST,\n",
    "    ca_certs='./http_ca.crt',\n",
    "    basic_auth=(\"elastic\", ELASTIC_PASSWORD)\n",
    ")\n"
   ]
  },
  {
   "cell_type": "code",
   "execution_count": null,
   "id": "b0e5db93",
   "metadata": {},
   "outputs": [],
   "source": [
    "# get cluster information\n",
    "client.info()"
   ]
  },
  {
   "cell_type": "code",
   "execution_count": null,
   "id": "ee8d7da4",
   "metadata": {},
   "outputs": [],
   "source": [
    "# define index config\n",
    "config = {\n",
    "    \"mappings\": {\n",
    "        \"properties\": {\n",
    "            \"text\": {\"type\": \"text\"},\n",
    "            \"embeddings\": {\n",
    "                    \"type\": \"dense_vector\",\n",
    "                    \"dims\": 512,\n",
    "                    \"index\": True\n",
    "                }\n",
    "            }\n",
    "    },\n",
    "    \"settings\": {\n",
    "        \"number_of_shards\": 2,\n",
    "        \"number_of_replicas\": 1\n",
    "    }\n",
    "}\n",
    "\n",
    "# create an index in elasticsearch\n",
    "try:\n",
    "    client.indices.create(\n",
    "        index=index_name,\n",
    "        settings=config[\"settings\"],\n",
    "        mappings=config[\"mappings\"],\n",
    "    )\n",
    "except:\n",
    "    print(f\"Index already exists: {client.indices.exists(index=[index_name])}\")"
   ]
  },
  {
   "cell_type": "markdown",
   "id": "53f36e61",
   "metadata": {},
   "source": [
    "# Create embeddings"
   ]
  },
  {
   "cell_type": "code",
   "execution_count": null,
   "id": "1a714638",
   "metadata": {},
   "outputs": [],
   "source": [
    "# load the dataset\n",
    "dataset = load_dataset('newsgroup', '18828_alt.atheism')\n",
    "# check an example of data\n",
    "dataset['train'][0]['text']"
   ]
  },
  {
   "cell_type": "markdown",
   "id": "537d72b5",
   "metadata": {},
   "source": [
    "# TODO: turn this to batch"
   ]
  },
  {
   "cell_type": "code",
   "execution_count": null,
   "id": "8d03be8a",
   "metadata": {},
   "outputs": [],
   "source": [
    "tokenizer = T5Tokenizer.from_pretrained(\"t5-small\")\n",
    "model = T5Model.from_pretrained(\"t5-small\")"
   ]
  },
  {
   "cell_type": "code",
   "execution_count": null,
   "id": "a5c3351d",
   "metadata": {},
   "outputs": [],
   "source": [
    "def get_embeddings(input_text, model=model, tokenizer=tokenizer, max_length=512):\n",
    "        \n",
    "#     tokenizer = T5Tokenizer.from_pretrained(model_name)\n",
    "#     model = T5Model.from_pretrained(model_name)\n",
    "\n",
    "    inputs = tokenizer.encode_plus(input_text, \n",
    "                                         max_length=max_length,\n",
    "                                         pad_to_max_length=True,\n",
    "                                         return_tensors=\"pt\")\n",
    "    \n",
    "    outputs = model(input_ids=inputs['input_ids'], decoder_input_ids=inputs['input_ids'])\n",
    "    \n",
    "    last_hidden_states = torch.mean(outputs[0], dim=1)\n",
    "\n",
    "    return last_hidden_states.tolist()"
   ]
  },
  {
   "cell_type": "code",
   "execution_count": null,
   "id": "5101df1a",
   "metadata": {},
   "outputs": [],
   "source": [
    "small_dataset = dataset['train'].select(range(10))"
   ]
  },
  {
   "cell_type": "code",
   "execution_count": null,
   "id": "f60a79f1",
   "metadata": {},
   "outputs": [],
   "source": [
    "# index documents and their embedding in Elasticsearch\n",
    "for i in range(small_dataset.num_rows):\n",
    "    doc = {\"text\": small_dataset['text'][i],\n",
    "           \"embeddings\": get_embeddings(small_dataset['text'][i])[0]\n",
    "    }\n",
    "    \n",
    "    client.index(index= index_name, document=doc)"
   ]
  },
  {
   "cell_type": "code",
   "execution_count": null,
   "id": "501b4e79",
   "metadata": {},
   "outputs": [],
   "source": [
    "result = client.count(index=index_name)\n",
    "print(result.body['count'])"
   ]
  },
  {
   "cell_type": "markdown",
   "id": "ababbab9",
   "metadata": {},
   "source": [
    "# Search!\n",
    "\n",
    "After indexing is finished, we can search our data. Elasticsearch uses cosine similarity but also provides a python wrapper to perform KNN search. You also have the option to use a custom similarity function.\n",
    "\n",
    "I have provided a code snippet for KNN with k=5. Remember that you have to provide embeddings for your query term as well."
   ]
  },
  {
   "cell_type": "code",
   "execution_count": null,
   "id": "7c115dc5",
   "metadata": {},
   "outputs": [],
   "source": [
    "query_embedding = get_embeddings(dataset['train']['text'][20])[0]\n",
    "query_dict = {\n",
    "    \"field\": \"embeddings\",\n",
    "    \"query_vector\": query_embedding,\n",
    "    \"k\": 5,\n",
    "    \"num_candidates\": 5\n",
    "}\n",
    "res = client.knn_search(index=index_name, knn=query_dict, source=[\"text\"])"
   ]
  }
 ],
 "metadata": {
  "kernelspec": {
   "display_name": "Python 3 (ipykernel)",
   "language": "python",
   "name": "python3"
  },
  "language_info": {
   "codemirror_mode": {
    "name": "ipython",
    "version": 3
   },
   "file_extension": ".py",
   "mimetype": "text/x-python",
   "name": "python",
   "nbconvert_exporter": "python",
   "pygments_lexer": "ipython3",
   "version": "3.9.16"
  }
 },
 "nbformat": 4,
 "nbformat_minor": 5
}
